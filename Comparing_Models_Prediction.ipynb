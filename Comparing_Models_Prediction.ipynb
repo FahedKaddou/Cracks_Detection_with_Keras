{
 "cells": [
  {
   "cell_type": "markdown",
   "metadata": {
    "button": false,
    "colab_type": "text",
    "id": "UnKgWQ5kkXiZ",
    "new_sheet": false,
    "run_control": {
     "read_only": false
    }
   },
   "source": [
    "## Introduction\n"
   ]
  },
  {
   "cell_type": "markdown",
   "metadata": {
    "button": false,
    "colab_type": "text",
    "id": "lrVbYdxckXib",
    "new_sheet": false,
    "run_control": {
     "read_only": false
    }
   },
   "source": [
    "In this lab, you will build an image classifier using the VGG16 pre-trained model, and you will evaluate it and compare its performance to the model we built in the last module using the ResNet50 pre-trained model. Good luck!"
   ]
  },
  {
   "cell_type": "markdown",
   "metadata": {
    "button": false,
    "colab_type": "text",
    "id": "G2jMO0LEkXid",
    "new_sheet": false,
    "run_control": {
     "read_only": false
    }
   },
   "source": [
    "## Table of Contents\n",
    "\n",
    "<div class=\"alert alert-block alert-info\" style=\"margin-top: 20px\">\n",
    "\n",
    "<font size = 3>    \n",
    "\n",
    "1. <a href=\"#item41\">Download Data \n",
    "2. <a href=\"#item42\">Part 1</a>\n",
    "3. <a href=\"#item43\">Part 2</a>  \n",
    "4. <a href=\"#item44\">Part 3</a>  \n",
    "\n",
    "</font>\n",
    "    \n",
    "</div>"
   ]
  },
  {
   "cell_type": "markdown",
   "metadata": {
    "button": false,
    "colab_type": "text",
    "id": "P2recJeskXie",
    "new_sheet": false,
    "run_control": {
     "read_only": false
    }
   },
   "source": [
    "   "
   ]
  },
  {
   "cell_type": "markdown",
   "metadata": {
    "colab_type": "text",
    "id": "2ulVYQPJkXig"
   },
   "source": [
    "<a id=\"item41\"></a>"
   ]
  },
  {
   "cell_type": "markdown",
   "metadata": {
    "colab_type": "text",
    "id": "YD_KSAmukXih"
   },
   "source": [
    "## Download Data"
   ]
  },
  {
   "cell_type": "markdown",
   "metadata": {
    "colab_type": "text",
    "id": "pleAHR9WkXii"
   },
   "source": [
    "Use the <code>wget</code> command to download the data for this assignment from here: https://s3-api.us-geo.objectstorage.softlayer.net/cf-courses-data/CognitiveClass/DL0321EN/data/concrete_data_week4.zip"
   ]
  },
  {
   "cell_type": "markdown",
   "metadata": {
    "colab_type": "text",
    "id": "PcgAY7p3kXik"
   },
   "source": [
    "Use the following cells to download the data."
   ]
  },
  {
   "cell_type": "code",
   "execution_count": 5,
   "metadata": {
    "colab": {
     "base_uri": "https://localhost:8080/",
     "height": 202
    },
    "colab_type": "code",
    "executionInfo": {
     "elapsed": 13779,
     "status": "ok",
     "timestamp": 1589559007813,
     "user": {
      "displayName": "Kota sai durga kamesh",
      "photoUrl": "https://lh3.googleusercontent.com/a-/AOh14GjTjqAs_XSPRluT1e_1a161LYmq1xxzr4Q-wY37=s64",
      "userId": "02067056678749702267"
     },
     "user_tz": -330
    },
    "id": "b1Uug0Z1kXim",
    "outputId": "303ae8ea-720d-45cc-f86d-e819131ca9f9"
   },
   "outputs": [
    {
     "name": "stdout",
     "output_type": "stream",
     "text": [
      "--2020-05-15 16:10:03--  https://s3-api.us-geo.objectstorage.softlayer.net/cf-courses-data/CognitiveClass/DL0321EN/data/concrete_data_week4.zip\n",
      "Resolving s3-api.us-geo.objectstorage.softlayer.net (s3-api.us-geo.objectstorage.softlayer.net)... 67.228.254.196\n",
      "Connecting to s3-api.us-geo.objectstorage.softlayer.net (s3-api.us-geo.objectstorage.softlayer.net)|67.228.254.196|:443... connected.\n",
      "HTTP request sent, awaiting response... 200 OK\n",
      "Length: 261483817 (249M) [application/zip]\n",
      "Saving to: ‘concrete_data_week4.zip’\n",
      "\n",
      "concrete_data_week4 100%[===================>] 249.37M  29.3MB/s    in 8.6s    \n",
      "\n",
      "2020-05-15 16:10:12 (29.0 MB/s) - ‘concrete_data_week4.zip’ saved [261483817/261483817]\n",
      "\n"
     ]
    }
   ],
   "source": [
    "!wget https://s3-api.us-geo.objectstorage.softlayer.net/cf-courses-data/CognitiveClass/DL0321EN/data/concrete_data_week4.zip"
   ]
  },
  {
   "cell_type": "code",
   "execution_count": null,
   "metadata": {},
   "outputs": [],
   "source": [
    "!unzip concrete_data_week4.zip"
   ]
  },
  {
   "cell_type": "markdown",
   "metadata": {
    "colab_type": "text",
    "id": "tU6OJv6XkXi1"
   },
   "source": [
    "After you unzip the data, you fill find the data has already been divided into a train, validation, and test sets."
   ]
  },
  {
   "cell_type": "markdown",
   "metadata": {
    "colab_type": "text",
    "id": "MbtEJzwAkXi3"
   },
   "source": [
    "  "
   ]
  },
  {
   "cell_type": "markdown",
   "metadata": {
    "button": false,
    "colab_type": "text",
    "id": "Y48LMRu-kXi5",
    "new_sheet": false,
    "run_control": {
     "read_only": false
    }
   },
   "source": [
    "<a id=\"item42\"></a>"
   ]
  },
  {
   "cell_type": "markdown",
   "metadata": {
    "colab_type": "text",
    "id": "q6ok_kYUkXi6"
   },
   "source": [
    "## Part 1"
   ]
  },
  {
   "cell_type": "markdown",
   "metadata": {
    "colab_type": "text",
    "id": "OW7OEDpakXi7"
   },
   "source": [
    "In this part, you will design a classifier using the VGG16 pre-trained model. Just like the ResNet50 model, you can import the model <code>VGG16</code> from <code>keras.applications</code>."
   ]
  },
  {
   "cell_type": "markdown",
   "metadata": {
    "colab_type": "text",
    "id": "QXvoGpr-kXi9"
   },
   "source": [
    "You will essentially build your classifier as follows:\n",
    "1. Import libraries, modules, and packages you will need. Make sure to import the *preprocess_input* function from <code>keras.applications.vgg16</code>.\n",
    "2. Use a batch size of 100 images for both training and validation.\n",
    "3. Construct an ImageDataGenerator for the training set and another one for the validation set. VGG16 was originally trained on 224 × 224 images, so make sure to address that when defining the ImageDataGenerator instances.\n",
    "4. Create a sequential model using Keras. Add VGG16 model to it and dense layer.\n",
    "5. Compile the mode using the adam optimizer and the categorical_crossentropy loss function.\n",
    "6. Fit the model on the augmented data using the ImageDataGenerators."
   ]
  },
  {
   "cell_type": "markdown",
   "metadata": {
    "colab_type": "text",
    "id": "ec6uMlZqkXi-"
   },
   "source": [
    "Use the following cells to create your classifier."
   ]
  },
  {
   "cell_type": "code",
   "execution_count": 7,
   "metadata": {
    "colab": {
     "base_uri": "https://localhost:8080/",
     "height": 34
    },
    "colab_type": "code",
    "executionInfo": {
     "elapsed": 3673,
     "status": "ok",
     "timestamp": 1589562741079,
     "user": {
      "displayName": "Kota sai durga kamesh",
      "photoUrl": "https://lh3.googleusercontent.com/a-/AOh14GjTjqAs_XSPRluT1e_1a161LYmq1xxzr4Q-wY37=s64",
      "userId": "02067056678749702267"
     },
     "user_tz": -330
    },
    "id": "nbrRKMqtkXi_",
    "outputId": "9e80277a-765f-46c5-b54f-8b8058ab4f13"
   },
   "outputs": [
    {
     "name": "stderr",
     "output_type": "stream",
     "text": [
      "Using TensorFlow backend.\n"
     ]
    }
   ],
   "source": [
    "import numpy as np\n",
    "import pandas as pd\n",
    "import matplotlib.pyplot as plt\n",
    "from keras.applications.vgg16 import VGG16\n",
    "from keras.applications.vgg16 import preprocess_input\n",
    "from keras.preprocessing.image import ImageDataGenerator\n",
    "from keras.models import Sequential\n",
    "from keras.layers import Dense,AveragePooling2D,Flatten,Dropout"
   ]
  },
  {
   "cell_type": "code",
   "execution_count": 0,
   "metadata": {
    "colab": {},
    "colab_type": "code",
    "id": "c_E3_KwfkXjG"
   },
   "outputs": [],
   "source": [
    "batch_size=100\n",
    "num_classes=2"
   ]
  },
  {
   "cell_type": "code",
   "execution_count": 0,
   "metadata": {
    "colab": {},
    "colab_type": "code",
    "id": "OAgvi4VIkXjO",
    "scrolled": true
   },
   "outputs": [],
   "source": [
    "datagenerator=ImageDataGenerator(preprocessing_function=preprocess_input)\n"
   ]
  },
  {
   "cell_type": "code",
   "execution_count": 10,
   "metadata": {
    "colab": {
     "base_uri": "https://localhost:8080/",
     "height": 50
    },
    "colab_type": "code",
    "executionInfo": {
     "elapsed": 5300,
     "status": "ok",
     "timestamp": 1589562748790,
     "user": {
      "displayName": "Kota sai durga kamesh",
      "photoUrl": "https://lh3.googleusercontent.com/a-/AOh14GjTjqAs_XSPRluT1e_1a161LYmq1xxzr4Q-wY37=s64",
      "userId": "02067056678749702267"
     },
     "user_tz": -330
    },
    "id": "sBdoxnzNkXjV",
    "outputId": "dfc2a71d-7b42-43fe-dddd-3defe7b663d4"
   },
   "outputs": [
    {
     "name": "stdout",
     "output_type": "stream",
     "text": [
      "Found 30001 images belonging to 2 classes.\n",
      "Found 9501 images belonging to 2 classes.\n"
     ]
    }
   ],
   "source": [
    "train_gen=datagenerator.flow_from_directory('concrete_data_week4/train',target_size=(224,224),batch_size=batch_size)\n",
    "valid_gen=datagenerator.flow_from_directory('concrete_data_week4/valid',target_size=(224,224),batch_size=batch_size)\n"
   ]
  },
  {
   "cell_type": "code",
   "execution_count": 11,
   "metadata": {
    "colab": {
     "base_uri": "https://localhost:8080/",
     "height": 319
    },
    "colab_type": "code",
    "executionInfo": {
     "elapsed": 13400,
     "status": "ok",
     "timestamp": 1589562764715,
     "user": {
      "displayName": "Kota sai durga kamesh",
      "photoUrl": "https://lh3.googleusercontent.com/a-/AOh14GjTjqAs_XSPRluT1e_1a161LYmq1xxzr4Q-wY37=s64",
      "userId": "02067056678749702267"
     },
     "user_tz": -330
    },
    "id": "BzGJpbwPkXjb",
    "outputId": "e099e4fa-98fc-47fa-9e6d-be2ebd84bc80"
   },
   "outputs": [
    {
     "name": "stdout",
     "output_type": "stream",
     "text": [
      "Downloading data from https://github.com/fchollet/deep-learning-models/releases/download/v0.1/vgg16_weights_tf_dim_ordering_tf_kernels_notop.h5\n",
      "58892288/58889256 [==============================] - 3s 0us/step\n",
      "Model: \"sequential_1\"\n",
      "_________________________________________________________________\n",
      "Layer (type)                 Output Shape              Param #   \n",
      "=================================================================\n",
      "vgg16 (Model)                (None, 512)               14714688  \n",
      "_________________________________________________________________\n",
      "dense_1 (Dense)              (None, 256)               131328    \n",
      "_________________________________________________________________\n",
      "dropout_1 (Dropout)          (None, 256)               0         \n",
      "_________________________________________________________________\n",
      "dense_2 (Dense)              (None, 2)                 514       \n",
      "=================================================================\n",
      "Total params: 14,846,530\n",
      "Trainable params: 131,842\n",
      "Non-trainable params: 14,714,688\n",
      "_________________________________________________________________\n"
     ]
    }
   ],
   "source": [
    "model=Sequential()\n",
    "model.add(VGG16(weights='imagenet',include_top=False,pooling='avg'))\n",
    "model.layers[0].trainable = False\n",
    "\n",
    "\n",
    "\n",
    "model.add(Dense(256,activation='relu'))\n",
    "\n",
    "model.add(Dropout(0.5))\n",
    "model.add(Dense(num_classes,activation='softmax'))\n",
    "model.summary()"
   ]
  },
  {
   "cell_type": "code",
   "execution_count": 0,
   "metadata": {
    "colab": {},
    "colab_type": "code",
    "id": "AkjQfffzkXji"
   },
   "outputs": [],
   "source": [
    "model.compile(optimizer='adam',loss='categorical_crossentropy',metrics=['accuracy'])"
   ]
  },
  {
   "cell_type": "code",
   "execution_count": 0,
   "metadata": {
    "colab": {},
    "colab_type": "code",
    "id": "423WZPCh55PF"
   },
   "outputs": [],
   "source": [
    "steps_per_epoch_training = len(train_gen)\n",
    "steps_per_epoch_validation = len(valid_gen)\n",
    "num_epochs = 2"
   ]
  },
  {
   "cell_type": "code",
   "execution_count": 14,
   "metadata": {
    "colab": {
     "base_uri": "https://localhost:8080/",
     "height": 84
    },
    "colab_type": "code",
    "executionInfo": {
     "elapsed": 738039,
     "status": "ok",
     "timestamp": 1589563492969,
     "user": {
      "displayName": "Kota sai durga kamesh",
      "photoUrl": "https://lh3.googleusercontent.com/a-/AOh14GjTjqAs_XSPRluT1e_1a161LYmq1xxzr4Q-wY37=s64",
      "userId": "02067056678749702267"
     },
     "user_tz": -330
    },
    "id": "NyVFdxdRkXjq",
    "outputId": "f23f71c1-096e-4d71-ead4-613ff5279d8d"
   },
   "outputs": [
    {
     "name": "stdout",
     "output_type": "stream",
     "text": [
      "Epoch 1/2\n",
      "301/301 [==============================] - 371s 1s/step - loss: 0.0351 - accuracy: 0.9866 - val_loss: 1.8954e-05 - val_accuracy: 0.9977\n",
      "Epoch 2/2\n",
      "301/301 [==============================] - 357s 1s/step - loss: 0.0074 - accuracy: 0.9976 - val_loss: 7.4741e-05 - val_accuracy: 0.9981\n"
     ]
    }
   ],
   "source": [
    "H=model.fit_generator(train_gen,epochs=2,validation_data=valid_gen)"
   ]
  },
  {
   "cell_type": "code",
   "execution_count": 0,
   "metadata": {
    "colab": {},
    "colab_type": "code",
    "id": "PXavTXLWkXkA"
   },
   "outputs": [],
   "source": [
    "model.save('classifier_vgg16_model.h5')"
   ]
  },
  {
   "cell_type": "markdown",
   "metadata": {
    "colab_type": "text",
    "id": "3QEqwutnkXkF"
   },
   "source": [
    "   "
   ]
  },
  {
   "cell_type": "markdown",
   "metadata": {
    "colab_type": "text",
    "id": "n2m9IokEkXkH"
   },
   "source": [
    "<a id=\"item43\"></a>"
   ]
  },
  {
   "cell_type": "markdown",
   "metadata": {
    "colab_type": "text",
    "id": "thiJ-mYskXkI"
   },
   "source": [
    "## Part 2"
   ]
  },
  {
   "cell_type": "markdown",
   "metadata": {
    "colab_type": "text",
    "id": "dMbioRCMkXkK"
   },
   "source": [
    "In this part, you will evaluate your deep learning models on a test data. For this part, you will need to do the following:\n",
    "\n",
    "1. Load your saved model that was built using the ResNet50 model. \n",
    "2. Construct an ImageDataGenerator for the test set. For this ImageDataGenerator instance, you only need to pass the directory of the test images, target size, and the **shuffle** parameter and set it to False.\n",
    "3. Use the **evaluate_generator** method to evaluate your models on the test data, by passing the above ImageDataGenerator as an argument. You can learn more about **evaluate_generator** [here](https://keras.io/models/sequential/).\n",
    "4. Print the performance of the classifier using the VGG16 pre-trained model.\n",
    "5. Print the performance of the classifier using the ResNet pre-trained model.\n"
   ]
  },
  {
   "cell_type": "markdown",
   "metadata": {
    "colab_type": "text",
    "id": "WZwbiQyKkXkL"
   },
   "source": [
    "Use the following cells to evaluate your models."
   ]
  },
  {
   "cell_type": "code",
   "execution_count": 0,
   "metadata": {
    "colab": {},
    "colab_type": "code",
    "id": "nUgseN6wkXkM"
   },
   "outputs": [],
   "source": [
    "from keras.models import load_model\n",
    "resnet_model=load_model('classifier_resnet_model.h5')\n",
    "vgg16_model=load_model('classifier_vgg16_model.h5')"
   ]
  },
  {
   "cell_type": "code",
   "execution_count": 0,
   "metadata": {
    "colab": {},
    "colab_type": "code",
    "id": "wgGgAB2RkXkR"
   },
   "outputs": [],
   "source": [
    "datagent=ImageDataGenerator()"
   ]
  },
  {
   "cell_type": "code",
   "execution_count": 19,
   "metadata": {
    "colab": {
     "base_uri": "https://localhost:8080/",
     "height": 34
    },
    "colab_type": "code",
    "executionInfo": {
     "elapsed": 1867,
     "status": "ok",
     "timestamp": 1589564999255,
     "user": {
      "displayName": "Kota sai durga kamesh",
      "photoUrl": "https://lh3.googleusercontent.com/a-/AOh14GjTjqAs_XSPRluT1e_1a161LYmq1xxzr4Q-wY37=s64",
      "userId": "02067056678749702267"
     },
     "user_tz": -330
    },
    "id": "d3q3c72fkXkX",
    "outputId": "07f90d43-63d1-4949-906d-00ddbe02cb9a"
   },
   "outputs": [
    {
     "name": "stdout",
     "output_type": "stream",
     "text": [
      "Found 500 images belonging to 2 classes.\n"
     ]
    }
   ],
   "source": [
    "test_gen=datagent.flow_from_directory(\"concrete_data_week4/test\",target_size=(224,224),shuffle=False)"
   ]
  },
  {
   "cell_type": "code",
   "execution_count": 21,
   "metadata": {
    "colab": {
     "base_uri": "https://localhost:8080/",
     "height": 84
    },
    "colab_type": "code",
    "executionInfo": {
     "elapsed": 6092,
     "status": "ok",
     "timestamp": 1589565225819,
     "user": {
      "displayName": "Kota sai durga kamesh",
      "photoUrl": "https://lh3.googleusercontent.com/a-/AOh14GjTjqAs_XSPRluT1e_1a161LYmq1xxzr4Q-wY37=s64",
      "userId": "02067056678749702267"
     },
     "user_tz": -330
    },
    "id": "jCJ3v5lVkXkc",
    "outputId": "0a66339e-ab92-4b47-fb79-c904e406fae4"
   },
   "outputs": [
    {
     "name": "stdout",
     "output_type": "stream",
     "text": [
      "The Performance by vgg16 model is below\n",
      "[0.06328427046537399, 0.9800000190734863]\n",
      "Loss is  0.06328427046537399\n",
      "The accuracy is  0.9800000190734863\n"
     ]
    }
   ],
   "source": [
    "print(\"The Performance by vgg16 model is below\")\n",
    "vgg=vgg16_model.evaluate_generator(test_gen)\n",
    "print(vgg)\n",
    "print(\"Loss is \",str(vgg[0]))\n",
    "print(\"The accuracy is \",str(vgg[1]))"
   ]
  },
  {
   "cell_type": "code",
   "execution_count": 23,
   "metadata": {
    "colab": {
     "base_uri": "https://localhost:8080/",
     "height": 84
    },
    "colab_type": "code",
    "executionInfo": {
     "elapsed": 6615,
     "status": "ok",
     "timestamp": 1589565322611,
     "user": {
      "displayName": "Kota sai durga kamesh",
      "photoUrl": "https://lh3.googleusercontent.com/a-/AOh14GjTjqAs_XSPRluT1e_1a161LYmq1xxzr4Q-wY37=s64",
      "userId": "02067056678749702267"
     },
     "user_tz": -330
    },
    "id": "21hrB5JAduj1",
    "outputId": "0eaef8be-4cf9-465b-b7cf-818a5e3eb387"
   },
   "outputs": [
    {
     "name": "stdout",
     "output_type": "stream",
     "text": [
      "The Performance by resnet50 model is below\n",
      "[3.488461971282959, 0.5419999957084656]\n",
      "Loss is  3.488461971282959\n",
      "The accuracy is  0.5419999957084656\n"
     ]
    }
   ],
   "source": [
    "print(\"The Performance by resnet50 model is below\")\n",
    "resnet=resnet_model.evaluate_generator(test_gen)\n",
    "print(resnet)\n",
    "print(\"Loss is \",str(resnet[0]))\n",
    "print(\"The accuracy is \",str(resnet[1]))"
   ]
  },
  {
   "cell_type": "markdown",
   "metadata": {
    "colab_type": "text",
    "id": "LAcgdTpMkXki"
   },
   "source": [
    "   "
   ]
  },
  {
   "cell_type": "markdown",
   "metadata": {
    "colab_type": "text",
    "id": "W1a7X9FpkXkk"
   },
   "source": [
    "<a id=\"item44\"></a>"
   ]
  },
  {
   "cell_type": "markdown",
   "metadata": {
    "colab_type": "text",
    "id": "ndF9JyfxkXkl"
   },
   "source": [
    "## Part 3"
   ]
  },
  {
   "cell_type": "markdown",
   "metadata": {
    "colab_type": "text",
    "id": "bew-n8n_kXkm"
   },
   "source": [
    "In this model, you will predict whether the images in the test data are images of cracked concrete or not. You will do the following:\n",
    "\n",
    "1. Use the **predict_generator** method to predict the class of the images in the test data, by passing the test data ImageDataGenerator instance defined in the previous part as an argument. You can learn more about the **predict_generator** method [here](https://keras.io/models/sequential/).\n",
    "2. Report the class predictions of the first five images in the test set."
   ]
  },
  {
   "cell_type": "markdown",
   "metadata": {
    "colab_type": "text",
    "id": "A1DjR2cnkXkn"
   },
   "source": [
    "Use the following cells to make your predictions."
   ]
  },
  {
   "cell_type": "code",
   "execution_count": 0,
   "metadata": {
    "colab": {},
    "colab_type": "code",
    "id": "km_HcIQFkXkp"
   },
   "outputs": [],
   "source": [
    "vgg_pred=vgg16_model.predict_generator(test_gen)\n",
    "res_pred=resnet_model.predict_generator(test_gen)\n"
   ]
  },
  {
   "cell_type": "code",
   "execution_count": 0,
   "metadata": {
    "colab": {},
    "colab_type": "code",
    "id": "UXt8xlmCkXkx"
   },
   "outputs": [],
   "source": [
    "def pred(x):\n",
    "    for i in x:\n",
    "        j=np.argmax(i)\n",
    "        if(j==0):\n",
    "            print(\"Negetive\")\n",
    "        else:\n",
    "            print(\"Positive\")"
   ]
  },
  {
   "cell_type": "markdown",
   "metadata": {
    "colab_type": "text",
    "id": "GYO1jpdkgQ8W"
   },
   "source": [
    "Resnet50 predictions for first 5 in testset"
   ]
  },
  {
   "cell_type": "code",
   "execution_count": 31,
   "metadata": {
    "colab": {
     "base_uri": "https://localhost:8080/",
     "height": 101
    },
    "colab_type": "code",
    "executionInfo": {
     "elapsed": 1098,
     "status": "ok",
     "timestamp": 1589565855495,
     "user": {
      "displayName": "Kota sai durga kamesh",
      "photoUrl": "https://lh3.googleusercontent.com/a-/AOh14GjTjqAs_XSPRluT1e_1a161LYmq1xxzr4Q-wY37=s64",
      "userId": "02067056678749702267"
     },
     "user_tz": -330
    },
    "id": "evzAff5TkXk4",
    "outputId": "275d6cf9-c8e4-47b8-db95-c1d5e4d14e9d"
   },
   "outputs": [
    {
     "name": "stdout",
     "output_type": "stream",
     "text": [
      "Negetive\n",
      "Negetive\n",
      "Negetive\n",
      "Negetive\n",
      "Negetive\n"
     ]
    }
   ],
   "source": [
    "pred(res_pred[0:5])"
   ]
  },
  {
   "cell_type": "markdown",
   "metadata": {
    "colab_type": "text",
    "id": "MpBRUJRCgPiS"
   },
   "source": [
    "Vgg16 predictions for first 5 in testset"
   ]
  },
  {
   "cell_type": "code",
   "execution_count": 32,
   "metadata": {
    "colab": {
     "base_uri": "https://localhost:8080/",
     "height": 101
    },
    "colab_type": "code",
    "executionInfo": {
     "elapsed": 2327,
     "status": "ok",
     "timestamp": 1589566009295,
     "user": {
      "displayName": "Kota sai durga kamesh",
      "photoUrl": "https://lh3.googleusercontent.com/a-/AOh14GjTjqAs_XSPRluT1e_1a161LYmq1xxzr4Q-wY37=s64",
      "userId": "02067056678749702267"
     },
     "user_tz": -330
    },
    "id": "hL61yuQ6kXlD",
    "outputId": "e7723175-7e65-49fd-90cb-84a4a9283812"
   },
   "outputs": [
    {
     "name": "stdout",
     "output_type": "stream",
     "text": [
      "Negetive\n",
      "Negetive\n",
      "Negetive\n",
      "Negetive\n",
      "Negetive\n"
     ]
    }
   ],
   "source": [
    "pred(vgg_pred[0:5])"
   ]
  },
  {
   "cell_type": "markdown",
   "metadata": {
    "colab_type": "text",
    "id": "28terccCkXlI"
   },
   "source": [
    "original predictions for first 5 in testset  "
   ]
  },
  {
   "cell_type": "code",
   "execution_count": 33,
   "metadata": {
    "colab": {
     "base_uri": "https://localhost:8080/",
     "height": 101
    },
    "colab_type": "code",
    "executionInfo": {
     "elapsed": 1276,
     "status": "ok",
     "timestamp": 1589566144308,
     "user": {
      "displayName": "Kota sai durga kamesh",
      "photoUrl": "https://lh3.googleusercontent.com/a-/AOh14GjTjqAs_XSPRluT1e_1a161LYmq1xxzr4Q-wY37=s64",
      "userId": "02067056678749702267"
     },
     "user_tz": -330
    },
    "id": "teDTfFJ3hVsX",
    "outputId": "e88c0347-5fa9-4e1f-c005-18942d3772d1"
   },
   "outputs": [
    {
     "name": "stdout",
     "output_type": "stream",
     "text": [
      "Negetive\n",
      "Negetive\n",
      "Negetive\n",
      "Negetive\n",
      "Negetive\n"
     ]
    }
   ],
   "source": [
    "pred(test_gen.next()[1][0:5])"
   ]
  },
  {
   "cell_type": "markdown",
   "metadata": {
    "button": false,
    "colab_type": "text",
    "id": "qHP7AHuQkXlI",
    "new_sheet": false,
    "run_control": {
     "read_only": false
    }
   },
   "source": [
    "### Thank you for completing this lab!\n",
    "\n",
    "This notebook was created by Alex Aklson."
   ]
  },
  {
   "cell_type": "markdown",
   "metadata": {
    "button": false,
    "colab_type": "text",
    "id": "BH-h8ZR8kXlJ",
    "new_sheet": false,
    "run_control": {
     "read_only": false
    }
   },
   "source": [
    "This notebook is part of a course on **Coursera** called *AI Capstone Project with Deep Learning*. If you accessed this notebook outside the course, you can take this course online by clicking [here](https://cocl.us/DL0321EN_Coursera_Week4_LAB1)."
   ]
  },
  {
   "cell_type": "markdown",
   "metadata": {
    "button": false,
    "colab_type": "text",
    "id": "FlA151rbkXlK",
    "new_sheet": false,
    "run_control": {
     "read_only": false
    }
   },
   "source": [
    "<hr>\n",
    "\n",
    "Copyright &copy; 2020 [IBM Developer Skills Network](https://cognitiveclass.ai/?utm_source=bducopyrightlink&utm_medium=dswb&utm_campaign=bdu). This notebook and its source code are released under the terms of the [MIT License](https://bigdatauniversity.com/mit-license/)."
   ]
  }
 ],
 "metadata": {
  "accelerator": "GPU",
  "colab": {
   "collapsed_sections": [],
   "name": "Comparing-Models.ipynb",
   "provenance": [],
   "toc_visible": true
  },
  "kernelspec": {
   "display_name": "Python 3",
   "language": "python",
   "name": "python3"
  },
  "language_info": {
   "codemirror_mode": {
    "name": "ipython",
    "version": 3
   },
   "file_extension": ".py",
   "mimetype": "text/x-python",
   "name": "python",
   "nbconvert_exporter": "python",
   "pygments_lexer": "ipython3",
   "version": "3.8.5"
  }
 },
 "nbformat": 4,
 "nbformat_minor": 1
}
